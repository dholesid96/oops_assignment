{
  "nbformat": 4,
  "nbformat_minor": 0,
  "metadata": {
    "colab": {
      "provenance": []
    },
    "kernelspec": {
      "name": "python3",
      "display_name": "Python 3"
    },
    "language_info": {
      "name": "python"
    }
  },
  "cells": [
    {
      "cell_type": "markdown",
      "source": [
        "# **OOPS Assignment**"
      ],
      "metadata": {
        "id": "iXMGjoHLHQjz"
      }
    },
    {
      "cell_type": "markdown",
      "source": [
        "# **1. What are the five key concepts of Object-Oriented Programming (OOP)?**\n",
        "\n",
        "Ans - Object-Oriented Programming (OOP) is built on several fundamental concepts that enable the design of robust and reusable software systems. Here are the five key concepts:\n",
        "\n",
        "**1. Class**"
      ],
      "metadata": {
        "id": "sVJPQ417kxNh"
      }
    },
    {
      "cell_type": "code",
      "execution_count": 3,
      "metadata": {
        "id": "LEcXsp-TiMyB"
      },
      "outputs": [],
      "source": [
        "#Example\n",
        "\n",
        "class Tennis:\n",
        "    def __init__(self, brand, model):\n",
        "        self.brand = brand\n",
        "        self.model = model\n",
        "\n",
        "    def start(self):\n",
        "        print(f\"{self.brand} {self.model} is starting.\")"
      ]
    },
    {
      "cell_type": "markdown",
      "source": [
        "**2. Object**\n",
        "\n",
        "An object is an instance of a class. It is a specific entity that has the properties and behaviors defined by its class."
      ],
      "metadata": {
        "id": "t5wt7KXplOFZ"
      }
    },
    {
      "cell_type": "code",
      "source": [
        "#Example\n",
        "\n",
        "my_racquet = Tennis (\"Yonex\", \"Vcore 100L\")\n",
        "my_racquet.start()"
      ],
      "metadata": {
        "colab": {
          "base_uri": "https://localhost:8080/"
        },
        "id": "rtHPBd21k918",
        "outputId": "5c1b53be-a136-47c7-e4ed-57cc2e220fcd"
      },
      "execution_count": 7,
      "outputs": [
        {
          "output_type": "stream",
          "name": "stdout",
          "text": [
            "Yonex Vcore 100L is starting.\n"
          ]
        }
      ]
    },
    {
      "cell_type": "markdown",
      "source": [
        "**3. Encapsulation**\n",
        "\n",
        "Encapsulation is a Python technique for combining data and functions into a\n",
        "single object. A class, for instance, contains all the data (methods and variables). Encapsulation refers to the\n",
        "broad concealment of an object's internal representation from areas outside of its specification."
      ],
      "metadata": {
        "id": "pq2v8CZMnBsK"
      }
    },
    {
      "cell_type": "code",
      "source": [
        "#Example\n",
        "\n",
        "class BankAccount:\n",
        "    def __init__(self, balance):\n",
        "        self.__balance = balance\n",
        "\n",
        "    def deposit(self, amount):\n",
        "        self.__balance += amount\n",
        "\n",
        "    def get_balance(self):\n",
        "        return self.__balance\n",
        "\n",
        "account = BankAccount(6700)\n",
        "account.deposit(4000)\n",
        "print(account.get_balance())"
      ],
      "metadata": {
        "colab": {
          "base_uri": "https://localhost:8080/"
        },
        "id": "zkupbGOBlZSM",
        "outputId": "0437b717-8fec-4158-c179-8c65393f86a7"
      },
      "execution_count": 10,
      "outputs": [
        {
          "output_type": "stream",
          "name": "stdout",
          "text": [
            "10700\n"
          ]
        }
      ]
    },
    {
      "cell_type": "markdown",
      "source": [
        "**4. Inheritance**\n",
        "\n",
        "Inheritance allows a class (child) to inherit attributes and methods from another class (parent). This promotes code reuse and establishes a relationship between classes."
      ],
      "metadata": {
        "id": "YbgvDcuZnyKp"
      }
    },
    {
      "cell_type": "code",
      "source": [
        "#Example\n",
        "\n",
        "class Vehicle:\n",
        "    def move(self):\n",
        "        print(\"Vehicle is moving.\")\n",
        "\n",
        "class Car(Vehicle):\n",
        "    def start_engine(self):\n",
        "        print(\"Car engine started.\")\n",
        "\n",
        "my_car = Car()\n",
        "my_car.move()\n",
        "my_car.start_engine()"
      ],
      "metadata": {
        "colab": {
          "base_uri": "https://localhost:8080/"
        },
        "id": "P8tNX2Q_ndcS",
        "outputId": "33894bde-db57-422e-fa8b-cfdc0e87b47c"
      },
      "execution_count": 14,
      "outputs": [
        {
          "output_type": "stream",
          "name": "stdout",
          "text": [
            "Vehicle is moving.\n",
            "Car engine started.\n"
          ]
        }
      ]
    },
    {
      "cell_type": "markdown",
      "source": [
        "**5. Polymorphism**\n",
        "\n",
        "In OOP, polymorphism refers to an object's capacity to assume several forms.\n",
        "Simply said, polymorphism enables us to carry out a single activity in a variety of ways."
      ],
      "metadata": {
        "id": "mAboeHm3op5D"
      }
    },
    {
      "cell_type": "code",
      "source": [
        "#Example (Method Overriding)\n",
        "\n",
        "class Tennis:\n",
        "    def Brand(self):\n",
        "        print(\"I love Tennis\")\n",
        "\n",
        "class Balls(Tennis):\n",
        "    def Brand(self):\n",
        "        print(\"Yonex\")\n",
        "\n",
        "class Shoes(Tennis):\n",
        "    def Brand(self):\n",
        "        print(\"Nike\")\n",
        "\n",
        "Tennis = [Balls(), Shoes()]\n",
        "for i in Tennis:\n",
        "  i.Brand()"
      ],
      "metadata": {
        "colab": {
          "base_uri": "https://localhost:8080/"
        },
        "id": "1sYh9-CloQnA",
        "outputId": "f6c237f5-0948-44cf-ef14-1468ffcdd207"
      },
      "execution_count": 22,
      "outputs": [
        {
          "output_type": "stream",
          "name": "stdout",
          "text": [
            "Yonex\n",
            "Nike\n"
          ]
        }
      ]
    },
    {
      "cell_type": "markdown",
      "source": [
        "# **2. Write a Python class for a `Car` with attributes for `make`, `model`, and `year`. Include a method to display the car's information.**"
      ],
      "metadata": {
        "id": "lgBOR4daq4AV"
      }
    },
    {
      "cell_type": "code",
      "source": [
        "#solutions\n",
        "\n",
        "class Car:\n",
        "    def __init__(self, make, model, year):\n",
        "\n",
        "        self.make = make\n",
        "        self.model = model\n",
        "        self.year = year\n",
        "\n",
        "    def display_info(self):\n",
        "\n",
        "        print(f\"Car Information: {self.make} {self.model} {self.year}\")\n",
        "\n",
        "my_car = Car(\"Tata\", \"Nexon\", 2023)\n",
        "my_car.display_info()"
      ],
      "metadata": {
        "colab": {
          "base_uri": "https://localhost:8080/"
        },
        "id": "thts_YUyo_kB",
        "outputId": "c2cb3c77-a620-45ef-cbcf-db15d4c647dc"
      },
      "execution_count": 29,
      "outputs": [
        {
          "output_type": "stream",
          "name": "stdout",
          "text": [
            "Car Information: Tata Nexon 2023\n"
          ]
        }
      ]
    },
    {
      "cell_type": "markdown",
      "source": [
        "# **3. Explain the difference between instance methods and class methods. Provide an example of each.**\n",
        "\n",
        "Ans - In Python, instance methods and class methods are two types of methods used within classes. The primary difference lies in how they are called and what they act upon.\n",
        "\n",
        "**Instance Methods**\n",
        "\n",
        "\n",
        "*   Definition: Methods that operate on an instance of the class.\n",
        "*   Access: They require an instance of the class to be called.\n",
        "*   Purpose: Used to access or modify the instance’s attributes and perform operations specific to that instance.\n",
        "*   Syntax: The first parameter is always self, which represents the instance.\n",
        "\n",
        "\n",
        "\n",
        "\n",
        "\n"
      ],
      "metadata": {
        "id": "F_HFmMv-vktO"
      }
    },
    {
      "cell_type": "code",
      "source": [
        "#Example\n",
        "\n",
        "class Person:\n",
        "    def __init__(self, name, age):\n",
        "        self.name = name\n",
        "        self.age = age\n",
        "\n",
        "    def greet(self):\n",
        "        print(f\"Hello, my name is {self.name} and I am {self.age} years old.\")\n",
        "\n",
        "person = Person(\"Rahul\", 24)\n",
        "person.greet()"
      ],
      "metadata": {
        "colab": {
          "base_uri": "https://localhost:8080/"
        },
        "id": "lHklXpu4sJjF",
        "outputId": "7a3a97d8-08ca-44d3-deba-5c7075a4a21d"
      },
      "execution_count": 35,
      "outputs": [
        {
          "output_type": "stream",
          "name": "stdout",
          "text": [
            "Hello, my name is Rahul and I am 24 years old.\n"
          ]
        }
      ]
    },
    {
      "cell_type": "markdown",
      "source": [
        "**Class Methods**\n",
        "\n",
        "*   Definition: Methods that operate on the class itself, rather than an instance.\n",
        "*   Access: They can be called on the class directly or on an instance.\n",
        "*   Purpose: Used to work with class-level data or perform actions related to the class as a whole.\n",
        "*   Syntax: The first parameter is always cls, which represents the class.\n",
        "*   Decorator: @classmethod is used to define a class method.\n",
        "\n",
        "\n",
        "\n",
        "\n",
        "\n",
        "\n"
      ],
      "metadata": {
        "id": "A-zhnr9aJta8"
      }
    },
    {
      "cell_type": "code",
      "source": [
        "#Example\n",
        "\n",
        "class Person:\n",
        "    population = 0\n",
        "\n",
        "    def __init__(self, name):\n",
        "        self.name = name\n",
        "        Person.population += 2  # Increment population when a new person is created\n",
        "\n",
        "    @classmethod\n",
        "    def get_population(cls):\n",
        "        return f\"The current population is {cls.population}.\"\n",
        "\n",
        "# Use case\n",
        "person1 = Person(\"Rahul\")\n",
        "person2 = Person(\"Karan\")\n",
        "\n",
        "print(Person.get_population())"
      ],
      "metadata": {
        "colab": {
          "base_uri": "https://localhost:8080/"
        },
        "id": "QfOs9f-NJQTc",
        "outputId": "f9f3fa10-fce0-4e88-9ac3-a128a1534a6d"
      },
      "execution_count": 40,
      "outputs": [
        {
          "output_type": "stream",
          "name": "stdout",
          "text": [
            "The current population is 4.\n"
          ]
        }
      ]
    },
    {
      "cell_type": "markdown",
      "source": [
        "# **4. How does Python implement method overloading? Give an example.**\n",
        "\n",
        "Ans - Python does not directly support method overloading in the traditional sense.Instead, Python allows methods to accept variable numbers of arguments using techniques like default arguments, *args, and **kwargs.\n",
        "\n",
        "*   Default Arguments: By providing default values for parameters, you can simulate method overloading.\n",
        "*   Variable-Length Arguments (*args, **kwargs): These allow methods to accept an arbitrary number of arguments.\n",
        "\n"
      ],
      "metadata": {
        "id": "sly29eRUK-GF"
      }
    },
    {
      "cell_type": "code",
      "source": [
        "#Example: Simulating Method Overloading in Python\n",
        "\n",
        "class Calculator:\n",
        "    def add(self, a, b=0, c=0):\n",
        "\n",
        "        return a + b + c\n",
        "\n",
        "# Use case\n",
        "calc = Calculator()\n",
        "print(calc.add(5))\n",
        "print(calc.add(5, 10))\n",
        "print(calc.add(5, 10, 15))\n"
      ],
      "metadata": {
        "colab": {
          "base_uri": "https://localhost:8080/"
        },
        "id": "1RP2_65XKO-f",
        "outputId": "6946d9e0-ea8a-48a5-db25-6de2bd07d5da"
      },
      "execution_count": 42,
      "outputs": [
        {
          "output_type": "stream",
          "name": "stdout",
          "text": [
            "5\n",
            "15\n",
            "30\n"
          ]
        }
      ]
    },
    {
      "cell_type": "code",
      "source": [
        "#Example: Using *args for Overloading\n",
        "\n",
        "class Calculator:\n",
        "    def add(self, *args):\n",
        "\n",
        "        return sum(args)\n",
        "\n",
        "# Use case\n",
        "calc = Calculator()\n",
        "print(calc.add(5))\n",
        "print(calc.add(5, 14))\n",
        "print(calc.add(5, 10, 15, 20))"
      ],
      "metadata": {
        "colab": {
          "base_uri": "https://localhost:8080/"
        },
        "id": "e51he7MsL90s",
        "outputId": "2760692e-50c0-42b1-c97c-2e61bcfd6ccc"
      },
      "execution_count": 44,
      "outputs": [
        {
          "output_type": "stream",
          "name": "stdout",
          "text": [
            "5\n",
            "19\n",
            "50\n"
          ]
        }
      ]
    },
    {
      "cell_type": "code",
      "source": [
        "#Example of overriding:\n",
        "\n",
        "class Example:\n",
        "    def greet(self, name):\n",
        "        print(f\"Hello, {name}\")\n",
        "\n",
        "    def greet(self):  # This overrides the previous method\n",
        "        print(\"Namaste!\")\n",
        "\n",
        "ex = Example()\n",
        "ex.greet()"
      ],
      "metadata": {
        "colab": {
          "base_uri": "https://localhost:8080/"
        },
        "id": "JLv5ZNODM92P",
        "outputId": "36ba15e8-c01a-44f2-b896-d8824ed8558d"
      },
      "execution_count": 46,
      "outputs": [
        {
          "output_type": "stream",
          "name": "stdout",
          "text": [
            "Namaste!\n"
          ]
        }
      ]
    },
    {
      "cell_type": "markdown",
      "source": [
        "# **5. What are the three types of access modifiers in Python? How are they denoted?**\n",
        "\n",
        "Ans - In Python, there are three types of access modifiers: public, protected, and private, which control the visibility and accessibility of class attributes and methods.\n",
        "\n",
        "**1. Public Access Modifier -**\n",
        "\n",
        "Definition - Public members are accessible from anywhere, both within and outside the class."
      ],
      "metadata": {
        "id": "4XIUOj9-Nm2h"
      }
    },
    {
      "cell_type": "code",
      "source": [
        "#Example\n",
        "\n",
        "class Car:\n",
        "    def __init__(self, make, model, year):\n",
        "        self.make = make  # Public attribute\n",
        "        self.model = model  # Public attribute\n",
        "        self.year = year  # Public attribute\n",
        "\n",
        "    def display_info(self):  # Public method\n",
        "        print(f\"Car: {self.make} {self.model} {self.year}\")\n",
        "\n",
        "car = Car(\"Tata\", \"Nexon\", \"2023\")\n",
        "print(car.make)\n",
        "car.display_info()"
      ],
      "metadata": {
        "colab": {
          "base_uri": "https://localhost:8080/"
        },
        "id": "5aWex9aONZYX",
        "outputId": "f1dd20fc-8427-419b-af37-b440bca8ce70"
      },
      "execution_count": 51,
      "outputs": [
        {
          "output_type": "stream",
          "name": "stdout",
          "text": [
            "Tata\n",
            "Car: Tata Nexon 2023\n"
          ]
        }
      ]
    },
    {
      "cell_type": "markdown",
      "source": [
        "**2. Protected Access Modifier -**\n",
        "\n",
        "Definition: Protected members are accessible within the class and in derived classes (subclasses).\n",
        "\n",
        "Denotation: Protected members are prefixed with a single underscore _."
      ],
      "metadata": {
        "id": "E0SnMapWP4lW"
      }
    },
    {
      "cell_type": "code",
      "source": [
        "#Example\n",
        "\n",
        "class Car:\n",
        "    def __init__(self, make, model, year):\n",
        "        self._make = make  # Protected attribute\n",
        "        self._model = model  # Protected attribute\n",
        "\n",
        "    def _display_info(self):  # Protected method\n",
        "        print(f\"Car: {self._make} {self._model} {self._year}\")\n",
        "\n",
        "class ElectricCar(Car):\n",
        "    def show(self):\n",
        "        print(f\"Electric Car: {self._make} {self._model}\")  # Accessible in subclass\n",
        "\n",
        "ecar = ElectricCar(\"Tata\", \"Nexon\", \"2023\")\n",
        "ecar.show()\n",
        "print(ecar._make)"
      ],
      "metadata": {
        "colab": {
          "base_uri": "https://localhost:8080/"
        },
        "id": "hiGi6QFvPQxm",
        "outputId": "739fe5b3-9689-4782-91b3-48eaf800a969"
      },
      "execution_count": 55,
      "outputs": [
        {
          "output_type": "stream",
          "name": "stdout",
          "text": [
            "Electric Car: Tata Nexon\n",
            "Tata\n"
          ]
        }
      ]
    },
    {
      "cell_type": "markdown",
      "source": [
        "**3. Private Access Modifier**\n",
        "\n",
        "Definition: Private members are accessible only within the class where they are defined. They cannot be accessed directly outside the class or in subclasses.\n",
        "\n",
        "Denotation: Private members are prefixed with a double underscore __."
      ],
      "metadata": {
        "id": "S_VZeDADRGLM"
      }
    },
    {
      "cell_type": "code",
      "source": [
        "#Example\n",
        "\n",
        "class Car:\n",
        "    def __init__(self, make, model, year):\n",
        "        self.__make = make  # Private attribute\n",
        "        self.__model = model  # Private attribute\n",
        "        self.__year = year  # Private attribute\n",
        "\n",
        "    def __display_info(self):  # Private method\n",
        "        print(f\"Car: {self.__make} {self.__model} {self.__year}\")\n",
        "\n",
        "    def show_info(self):\n",
        "        self.__display_info()  # Accessible only within the class\n",
        "\n",
        "car = Car(\"Tata\", \"Nexon\", '2024')\n",
        "# print(car.__make)\n",
        "car.show_info()"
      ],
      "metadata": {
        "colab": {
          "base_uri": "https://localhost:8080/"
        },
        "id": "w02Kd5gXQW2a",
        "outputId": "0ff6917a-2f6b-4a32-fff0-345afbce8015"
      },
      "execution_count": 59,
      "outputs": [
        {
          "output_type": "stream",
          "name": "stdout",
          "text": [
            "Car: Tata Nexon 2024\n"
          ]
        }
      ]
    },
    {
      "cell_type": "markdown",
      "source": [
        "# **6. Describe the five types of inheritance in Python. Provide a simple example of multiple inheritance.**\n",
        "\n",
        "Ans - Inheritance in Python allows a class (child) to derive attributes and methods from another class (parent). Python supports five types of inheritance:\n",
        "\n",
        "**1. Single Inheritance**\n",
        "\n",
        "Definition: A child class inherits from one parent class.\n",
        "\n",
        "**2. Multilevel Inheritance**\n",
        "\n",
        "Definition: A chain of inheritance where a class inherits from a child class, which itself is derived from another class.\n",
        "\n",
        "**3. Hierarchical Inheritance**\n",
        "\n",
        "Definition: Multiple child classes inherit from a single parent class.\n",
        "\n",
        "**4. Hybrid Inheritance**\n",
        "\n",
        "Definition: A combination of two or more types of inheritance."
      ],
      "metadata": {
        "id": "ppCTxW7MRzkI"
      }
    },
    {
      "cell_type": "markdown",
      "source": [
        "**5. Multiple Inheritance**\n",
        "\n",
        "Definition: A child class inherits from more than one parent class."
      ],
      "metadata": {
        "id": "LgzE5W9ogB6_"
      }
    },
    {
      "cell_type": "code",
      "source": [
        "#example\n",
        "\n",
        "class Father:\n",
        "    def skill(self):\n",
        "        print(\"Father is good at painting.\")\n",
        "\n",
        "class Mother:\n",
        "    def skill(self):\n",
        "        print(\"Mother is good at singing.\")\n",
        "\n",
        "class Child(Father, Mother):\n",
        "    def skill(self):\n",
        "        print(\"Child inherits multiple skills.\")\n",
        "\n",
        "child = Child()\n",
        "child.skill()"
      ],
      "metadata": {
        "colab": {
          "base_uri": "https://localhost:8080/"
        },
        "id": "t3bvZylDS0Vh",
        "outputId": "aa897d61-a41f-4a36-a51d-d57389348595"
      },
      "execution_count": 66,
      "outputs": [
        {
          "output_type": "stream",
          "name": "stdout",
          "text": [
            "Child inherits multiple skills.\n"
          ]
        }
      ]
    },
    {
      "cell_type": "code",
      "source": [
        "#Detailed Example of Multiple Inheritance\n",
        "\n",
        "class Writer:\n",
        "    def write(self):\n",
        "        print(\"Writer is writing.\")\n",
        "\n",
        "class Painter:\n",
        "    def paint(self):\n",
        "        print(\"Painter is painting.\")\n",
        "\n",
        "class Artist(Writer, Painter):\n",
        "    def create(self):\n",
        "        print(\"Artist is creating something unique.\")\n",
        "\n",
        "# Use case\n",
        "artist = Artist()\n",
        "artist.write()\n",
        "artist.paint()\n",
        "artist.create()"
      ],
      "metadata": {
        "colab": {
          "base_uri": "https://localhost:8080/"
        },
        "id": "M3xgEPm4gRnq",
        "outputId": "1a6c765e-8976-4425-ffdd-351bcb5400bf"
      },
      "execution_count": 67,
      "outputs": [
        {
          "output_type": "stream",
          "name": "stdout",
          "text": [
            "Writer is writing.\n",
            "Painter is painting.\n",
            "Artist is creating something unique.\n"
          ]
        }
      ]
    },
    {
      "cell_type": "markdown",
      "source": [
        "# **7. What is the Method Resolution Order (MRO) in Python? How can you retrieve it programmatically?**\n",
        "\n",
        "Ans - The Method Resolution Order (MRO) in Python defines the sequence in which classes are searched when executing a method or accessing an attribute in the presence of inheritance. It is particularly important in the context of multiple inheritance to resolve ambiguities and ensure a consistent lookup order.\n",
        "\n",
        "**MRO Rules**\n",
        "\n",
        "**Depth-First Search:**\n",
        "\n",
        "In single inheritance, Python searches the class hierarchy depth-first, from the current class up to the base class.\n",
        "\n",
        "**C3 Linearization (For Multiple Inheritance):**\n",
        "\n",
        "In multiple inheritance, Python uses the C3 algorithm to ensure a linear order of resolution. This avoids inconsistencies caused by the \"diamond problem.\"\n",
        "\n",
        "**Python provides two ways to retrieve the MRO of a class:**\n",
        "\n",
        "1. Using the __mro__ attribute:\n",
        "\n",
        "It is a tuple that lists the MRO of the class.\n",
        "2. Using the mro() method:\n",
        "\n",
        "It is a method that returns a list representing the MRO."
      ],
      "metadata": {
        "id": "uem2MRvbhmcZ"
      }
    },
    {
      "cell_type": "code",
      "source": [
        "#Examples\n",
        "\n",
        "class A:\n",
        "    pass\n",
        "\n",
        "class B(A):\n",
        "    pass\n",
        "\n",
        "print(B.__mro__)\n",
        "print(B.mro())"
      ],
      "metadata": {
        "colab": {
          "base_uri": "https://localhost:8080/"
        },
        "id": "dwDUWt8phN0Q",
        "outputId": "5ffe037e-f355-4da8-d28c-aab68a074710"
      },
      "execution_count": 69,
      "outputs": [
        {
          "output_type": "stream",
          "name": "stdout",
          "text": [
            "(<class '__main__.B'>, <class '__main__.A'>, <class 'object'>)\n",
            "[<class '__main__.B'>, <class '__main__.A'>, <class 'object'>]\n"
          ]
        }
      ]
    },
    {
      "cell_type": "code",
      "source": [
        "class A:\n",
        "    def show(self):\n",
        "        print(\"A\")\n",
        "\n",
        "class B:\n",
        "    def show(self):\n",
        "        print(\"B\")\n",
        "\n",
        "class C(A, B):  # Multiple inheritance\n",
        "    pass\n",
        "\n",
        "print(C.__mro__)\n",
        "print(C.mro())"
      ],
      "metadata": {
        "colab": {
          "base_uri": "https://localhost:8080/"
        },
        "id": "ubzVCsaZikTJ",
        "outputId": "e110cc4e-6897-4171-b11f-98e23a3cb0b5"
      },
      "execution_count": 70,
      "outputs": [
        {
          "output_type": "stream",
          "name": "stdout",
          "text": [
            "(<class '__main__.C'>, <class '__main__.A'>, <class '__main__.B'>, <class 'object'>)\n",
            "[<class '__main__.C'>, <class '__main__.A'>, <class '__main__.B'>, <class 'object'>]\n"
          ]
        }
      ]
    },
    {
      "cell_type": "markdown",
      "source": [
        "# **8. Create an abstract base class `Shape` with an abstract method `area()`. Then create two subclasses `Circle` and `Rectangle` that implement the `area()` method.**\n",
        "\n",
        "Ans - Here’s an example of an abstract base class Shape with an abstract method area(), and two subclasses Circle and Rectangle that implement the area() method:"
      ],
      "metadata": {
        "id": "BIg-6Uodi11s"
      }
    },
    {
      "cell_type": "code",
      "source": [
        "#Example\n",
        "\n",
        "from abc import ABC, abstractmethod\n",
        "import math\n",
        "\n",
        "# Abstract base class\n",
        "class Shape(ABC):\n",
        "    @abstractmethod\n",
        "    def area(self):\n",
        "      pass\n",
        "\n",
        "\n",
        "# Subclass for Circle\n",
        "class Circle(Shape):\n",
        "    def __init__(self, radius):\n",
        "        self.radius = radius\n",
        "\n",
        "    def area(self):\n",
        "        return math.pi * self.radius ** 2\n",
        "\n",
        "# Subclass for Rectangle\n",
        "class Rectangle(Shape):\n",
        "    def __init__(self, width, height):\n",
        "        self.width = width\n",
        "        self.height = height\n",
        "\n",
        "    def area(self):\n",
        "        return self.width * self.height\n",
        "\n",
        "# use case\n",
        "circle = Circle(5)\n",
        "rectangle = Rectangle(4, 6)\n",
        "\n",
        "print(f\"Circle Area: {circle.area():.2f}\")  # Output: Circle Area: 78.54\n",
        "print(f\"Rectangle Area: {rectangle.area()}\")  # Output: Rectangle Area: 24"
      ],
      "metadata": {
        "colab": {
          "base_uri": "https://localhost:8080/"
        },
        "id": "FcY0ygq_isjg",
        "outputId": "ceaa86f1-eaa9-4f54-d8bf-36fdf9873847"
      },
      "execution_count": 75,
      "outputs": [
        {
          "output_type": "stream",
          "name": "stdout",
          "text": [
            "Circle Area: 78.54\n",
            "Rectangle Area: 24\n"
          ]
        }
      ]
    },
    {
      "cell_type": "markdown",
      "source": [
        "# **9. Demonstrate polymorphism by creating a function that can work with different shape objects to calculate and print their areas.**\n",
        "\n",
        "Ans - In OOP, polymorphism refers to an object's capacity to assume several forms. Simply said, polymorphism enables us to carry out a single activity in a variety of ways.\n",
        "\n",
        "Demonstration of polymorphism by creating a function that works with different shape objects to calculate and print their areas:"
      ],
      "metadata": {
        "id": "xulOBxcRkC8l"
      }
    },
    {
      "cell_type": "code",
      "source": [
        "from abc import ABC, abstractmethod\n",
        "import math\n",
        "\n",
        "# Abstract base class\n",
        "class Shape(ABC):\n",
        "    @abstractmethod\n",
        "    def area(self):\n",
        "        pass\n",
        "\n",
        "# Subclass for Circle\n",
        "class Circle(Shape):\n",
        "    def __init__(self, radius):\n",
        "        self.radius = radius\n",
        "\n",
        "    def area(self):\n",
        "        return math.pi * self.radius ** 2\n",
        "\n",
        "# Subclass for Rectangle\n",
        "class Rectangle(Shape):\n",
        "    def __init__(self, width, height):\n",
        "        self.width = width\n",
        "        self.height = height\n",
        "\n",
        "    def area(self):\n",
        "        return self.width * self.height\n",
        "\n",
        "# Subclass for Triangle\n",
        "class Triangle(Shape):\n",
        "    def __init__(self, base, height):\n",
        "        self.base = base\n",
        "        self.height = height\n",
        "\n",
        "    def area(self):\n",
        "        return 0.5 * self.base * self.height\n",
        "\n",
        "# Function to calculate and print area of any shape\n",
        "def print_area(shape: Shape):\n",
        "    print(f\"The area of the {shape.__class__.__name__} is {shape.area():.2f}\")\n",
        "\n",
        "# Use Case\n",
        "shapes = [\n",
        "    Circle(4),\n",
        "    Rectangle(2, 4),\n",
        "    Triangle(3, 7)\n",
        "]\n",
        "\n",
        "for shape in shapes:\n",
        "    print_area(shape)"
      ],
      "metadata": {
        "colab": {
          "base_uri": "https://localhost:8080/"
        },
        "id": "70vtBmR7jrHr",
        "outputId": "0ee01870-5841-4e8c-ce43-bc630c1200bb"
      },
      "execution_count": 81,
      "outputs": [
        {
          "output_type": "stream",
          "name": "stdout",
          "text": [
            "The area of the Circle is 50.27\n",
            "The area of the Rectangle is 8.00\n",
            "The area of the Triangle is 10.50\n"
          ]
        }
      ]
    },
    {
      "cell_type": "markdown",
      "source": [
        "This approach showcases polymorphism, as the same function (print_area) interacts with different types of objects in a unified way, relying on the implementation of the area() method in each subclass."
      ],
      "metadata": {
        "id": "9PyDDVUHqFie"
      }
    },
    {
      "cell_type": "markdown",
      "source": [
        "# **10. Implement encapsulation in a `BankAccount` class with private attributes for `balance` and `account_number`. Include methods for deposit, withdrawal, and balance inquiry.**\n",
        "\n",
        "Ans - Implementation of encapsulation in a BankAccount class with private attributes and controlled access using getter and setter methods:"
      ],
      "metadata": {
        "id": "9asi74tzqIwT"
      }
    },
    {
      "cell_type": "code",
      "source": [
        "class BankAccount:\n",
        "    def __init__(self, account_number, initial_balance=0):\n",
        "\n",
        "        self.__account_number = account_number\n",
        "        self.__balance = initial_balance\n",
        "\n",
        "    # Method to deposit money\n",
        "    def deposit(self, amount):\n",
        "        if amount > 0:\n",
        "            self.__balance += amount\n",
        "            print(f\"Deposited {amount:.2f}. New balance is {self.__balance:.2f}.\")\n",
        "        else:\n",
        "            print(\"Deposit amount must be positive.\")\n",
        "\n",
        "    # Method to withdraw money\n",
        "    def withdraw(self, amount):\n",
        "        if amount > 0:\n",
        "            if amount <= self.__balance:\n",
        "                self.__balance -= amount\n",
        "                print(f\"Withdrew {amount:.2f}. Remaining balance is {self.__balance:.2f}.\")\n",
        "            else:\n",
        "                print(\"Insufficient funds.\")\n",
        "        else:\n",
        "            print(\"Withdrawal amount must be positive.\")\n",
        "\n",
        "    # Method to inquire balance\n",
        "    def get_balance(self):\n",
        "        print(f\"Your current balance is {self.__balance:.2f}.\")\n",
        "        return self.__balance\n",
        "\n",
        "    # Getter for account number\n",
        "    def get_account_number(self):\n",
        "        return self.__account_number\n",
        "\n",
        "# Use Case\n",
        "account = BankAccount(\"123456789\", 5000)\n",
        "\n",
        "# Accessing private attributes indirectly through methods\n",
        "account.get_balance()\n",
        "\n",
        "account.deposit(500)\n",
        "\n",
        "account.withdraw(200)\n",
        "\n",
        "account.get_balance()"
      ],
      "metadata": {
        "colab": {
          "base_uri": "https://localhost:8080/"
        },
        "id": "MAWf_T2ApeTV",
        "outputId": "0934f624-07df-47e9-f702-20d00aa19cee"
      },
      "execution_count": 84,
      "outputs": [
        {
          "output_type": "stream",
          "name": "stdout",
          "text": [
            "Your current balance is 5000.00.\n",
            "Deposited 500.00. New balance is 5500.00.\n",
            "Withdrew 200.00. Remaining balance is 5300.00.\n",
            "Your current balance is 5300.00.\n"
          ]
        },
        {
          "output_type": "execute_result",
          "data": {
            "text/plain": [
              "5300"
            ]
          },
          "metadata": {},
          "execution_count": 84
        }
      ]
    },
    {
      "cell_type": "markdown",
      "source": [
        "# **11. Write a class that overrides the `__str__` and `__add__` magic methods. What will these methods allow you to do?**\n",
        "\n",
        "Ans - The `__str__` and `__add__` magic methods are special methods in Python that allow you to customize the behavior of objects for specific operations:\n",
        "\n",
        "**1. `__str__`**\n",
        "\n",
        "*   Controls how an object is represented as a string (e.g., in print() or str() calls).\n",
        "*   Provides a human-readable representation of the object.\n",
        "\n",
        "**2. `__add__`**\n",
        "\n",
        "*   Defines behavior for the addition operator (+) when used with instances of the class.\n",
        "*   Allows custom addition logic for objects of the class."
      ],
      "metadata": {
        "id": "zd7d4jcZxWvw"
      }
    },
    {
      "cell_type": "code",
      "source": [
        "#Example\n",
        "\n",
        "class Point:\n",
        "    def __init__(self, x, y):\n",
        "        self.x = x\n",
        "        self.y = y\n",
        "\n",
        "    # Override __str__ for human-readable string representation\n",
        "    def __str__(self):\n",
        "        return f\"Point({self.x}, {self.y})\"\n",
        "\n",
        "    # Override __add__ for custom addition\n",
        "    def __add__(self, other):\n",
        "        if isinstance(other, Point):\n",
        "            return Point(self.x + other.x, self.y + other.y)\n",
        "\n",
        "# Use Case\n",
        "point1 = Point(2, 3)\n",
        "point2 = Point(4, 5)\n",
        "\n",
        "# Using __str__\n",
        "print(point1)\n",
        "print(point2)\n",
        "\n",
        "# Using __add__\n",
        "result = point1 + point2\n",
        "print(result)"
      ],
      "metadata": {
        "colab": {
          "base_uri": "https://localhost:8080/"
        },
        "id": "9QsMULk4rJfp",
        "outputId": "8ca645d2-f12b-4c7e-e3c2-8b146abe053e"
      },
      "execution_count": 88,
      "outputs": [
        {
          "output_type": "stream",
          "name": "stdout",
          "text": [
            "Point(2, 3)\n",
            "Point(4, 5)\n",
            "Point(6, 8)\n"
          ]
        }
      ]
    },
    {
      "cell_type": "markdown",
      "source": [
        "# **12. Create a decorator that measures and prints the execution time of a function.**\n",
        "\n",
        "Ans - Example of a decorator that measures and prints the execution time of a function:"
      ],
      "metadata": {
        "id": "Wd_oDMNT3CiB"
      }
    },
    {
      "cell_type": "code",
      "source": [
        "import time\n",
        "\n",
        "def measure_time(func):\n",
        "\n",
        "    def wrapper(*args, **kwargs):\n",
        "        start_time = time.time()  # Records the start time\n",
        "        result = func(*args, **kwargs)  # Execute the function\n",
        "        end_time = time.time()  # Records the end time\n",
        "        execution_time = end_time - start_time\n",
        "        print(f\"Function '{func.__name__}' executed in {execution_time:.4f} seconds.\")\n",
        "        return result\n",
        "    return wrapper\n",
        "\n",
        "# Use Case\n",
        "@measure_time\n",
        "def example_function(n):\n",
        "    \"\"\"Example function that simulates a time-consuming task.\"\"\"\n",
        "    total = 0\n",
        "    for i in range(n):\n",
        "        total += i\n",
        "    return total\n",
        "\n",
        "# Calls the decorated function\n",
        "result = example_function(1000000)\n",
        "print(f\"Result: {result}\")"
      ],
      "metadata": {
        "colab": {
          "base_uri": "https://localhost:8080/"
        },
        "id": "1w_GNFri1xor",
        "outputId": "375bcade-f12e-45b4-8f8d-e3ffeb5b5140"
      },
      "execution_count": 89,
      "outputs": [
        {
          "output_type": "stream",
          "name": "stdout",
          "text": [
            "Function 'example_function' executed in 0.0715 seconds.\n",
            "Result: 499999500000\n"
          ]
        }
      ]
    },
    {
      "cell_type": "markdown",
      "source": [
        "# **13. Explain the concept of the Diamond Problem in multiple inheritance. How does Python resolve it?**\n",
        "\n",
        "Ans - The Diamond Problem occurs in multiple inheritance when a class inherits from two classes that both inherit from a common base class. This can lead to ambiguity because it becomes unclear which version of the common base class's methods or attributes should be used."
      ],
      "metadata": {
        "id": "WgJVNwdx6ji8"
      }
    },
    {
      "cell_type": "markdown",
      "source": [
        "**Structure of the Diamond Problem:**"
      ],
      "metadata": {
        "id": "mgSOC4gV7iV6"
      }
    },
    {
      "cell_type": "code",
      "source": [
        "       A\n",
        "      / \\\n",
        "     B   C\n",
        "      \\ /\n",
        "       D"
      ],
      "metadata": {
        "id": "5xM77RF37ecv"
      },
      "execution_count": null,
      "outputs": []
    },
    {
      "cell_type": "markdown",
      "source": [
        "**How Does Python Resolve the Diamond Problem?**\n",
        "\n",
        "Python resolves the Diamond Problem using the C3 Linearization Algorithm (also called C3 MRO, Method Resolution Order).\n",
        "\n",
        "**1. Consistent Order:**\n",
        "\n",
        "It creates a deterministic order for method resolution by following the inheritance hierarchy.\n",
        "\n",
        "**2. No Repetition:**\n",
        "\n",
        "Each class in the hierarchy is visited only once.\n",
        "\n",
        "**3. Left-to-Right Priority:**\n",
        "\n",
        "In the case of multiple inheritance, Python prioritizes the order in which parent classes are listed in the class definition."
      ],
      "metadata": {
        "id": "9OyyQ2r-7pCp"
      }
    },
    {
      "cell_type": "code",
      "source": [
        "#Example of Python MRO:\n",
        "\n",
        "class A:\n",
        "    def show(self):\n",
        "        print(\"A\")\n",
        "\n",
        "class B(A):\n",
        "    def show(self):\n",
        "        print(\"B\")\n",
        "\n",
        "class C(A):\n",
        "    def show(self):\n",
        "        print(\"C\")\n",
        "\n",
        "class D(B, C):\n",
        "    pass\n",
        "\n",
        "d = D()\n",
        "d.show()\n",
        "print(D.mro())"
      ],
      "metadata": {
        "colab": {
          "base_uri": "https://localhost:8080/"
        },
        "id": "53mtX6be7raL",
        "outputId": "7d401b5f-bba3-49e9-b48e-f1a0716c129f"
      },
      "execution_count": 90,
      "outputs": [
        {
          "output_type": "stream",
          "name": "stdout",
          "text": [
            "B\n",
            "[<class '__main__.D'>, <class '__main__.B'>, <class '__main__.C'>, <class '__main__.A'>, <class 'object'>]\n"
          ]
        }
      ]
    },
    {
      "cell_type": "markdown",
      "source": [
        "**14. Write a class method that keeps track of the number of instances created from a class.**\n",
        "\n",
        "Ans - Here is the class method that keeps track of the number of instances created from a class."
      ],
      "metadata": {
        "id": "xAmp-i_ZBmGm"
      }
    },
    {
      "cell_type": "code",
      "source": [
        "class InstanceCounter:\n",
        "    # Class attribute to keep track of the instance count\n",
        "    instance_count = 0\n",
        "\n",
        "    def __init__(self):\n",
        "        # Increment the count when an instance is created\n",
        "        InstanceCounter.instance_count += 1\n",
        "\n",
        "    @classmethod\n",
        "    def get_instance_count(cls):\n",
        "\n",
        "        return cls.instance_count\n",
        "\n",
        "# Use Case\n",
        "obj1 = InstanceCounter()\n",
        "obj2 = InstanceCounter()\n",
        "obj3 = InstanceCounter()\n",
        "obj4 = InstanceCounter()\n",
        "\n",
        "print(f\"Number of instances created: {InstanceCounter.get_instance_count()}\")"
      ],
      "metadata": {
        "colab": {
          "base_uri": "https://localhost:8080/"
        },
        "id": "ZWsz7gT-BPE4",
        "outputId": "8ae9c205-b8b2-4aeb-e430-4fb2a6535e43"
      },
      "execution_count": 93,
      "outputs": [
        {
          "output_type": "stream",
          "name": "stdout",
          "text": [
            "Number of instances created: 4\n"
          ]
        }
      ]
    },
    {
      "cell_type": "markdown",
      "source": [
        "This approach uses a class method to access and manage the instance_count, demonstrating how class-level state can be maintained."
      ],
      "metadata": {
        "id": "UjijV9p4D5E8"
      }
    },
    {
      "cell_type": "markdown",
      "source": [
        "# **15. Implement a static method in a class that checks if a given year is a leap year**\n",
        "\n",
        "Ans - Here’s an implementation of a static method in a class that checks if a given year is a leap year:"
      ],
      "metadata": {
        "id": "N0HL2O66EARq"
      }
    },
    {
      "cell_type": "code",
      "source": [
        "class DateUtils:\n",
        "    @staticmethod\n",
        "    def is_leap_year(year):\n",
        "\n",
        "        if (year % 4 == 0 and year % 100 != 0) or (year % 400 == 0):\n",
        "            return True\n",
        "        return False\n",
        "\n",
        "# Use Case\n",
        "print(DateUtils.is_leap_year(2020))\n",
        "print(DateUtils.is_leap_year(1900))\n",
        "print(DateUtils.is_leap_year(2000))\n",
        "print(DateUtils.is_leap_year(1995))"
      ],
      "metadata": {
        "colab": {
          "base_uri": "https://localhost:8080/"
        },
        "id": "Aoz1rlurCbwN",
        "outputId": "88a2f5bc-80ca-443c-e822-34fb5665f992"
      },
      "execution_count": 98,
      "outputs": [
        {
          "output_type": "stream",
          "name": "stdout",
          "text": [
            "True\n",
            "False\n",
            "True\n",
            "False\n"
          ]
        }
      ]
    },
    {
      "cell_type": "markdown",
      "source": [
        "**1. Static Method (@staticmethod):**\n",
        "\n",
        "A static method does not depend on class or instance-level data and is defined using the @staticmethod decorator.\n",
        "\n",
        "**2. Leap Year Logic:**\n",
        "\n",
        "A year is a leap year if:\n",
        "\n",
        "It is divisible by 4, but not divisible by 100, or\n",
        "\n",
        "It is divisible by 400."
      ],
      "metadata": {
        "id": "eC5IrQiiG4bA"
      }
    },
    {
      "cell_type": "code",
      "source": [],
      "metadata": {
        "id": "hB8KSLEFEuda"
      },
      "execution_count": null,
      "outputs": []
    }
  ]
}